{
 "cells": [
  {
   "cell_type": "markdown",
   "id": "afd76ef8-60ed-4f79-b015-fb65d6a1516d",
   "metadata": {},
   "source": [
    "# Matrix Convergence Solution Using 2D Convolution\n",
    "![2D Convolution](data/Principle-of-a-convolution.png)\n"
   ]
  },
  {
   "cell_type": "code",
   "execution_count": null,
   "id": "5b95fa72-0d96-4a56-a5a5-1349a2a16774",
   "metadata": {},
   "outputs": [],
   "source": [
    "import numpy as np\n",
    "import seaborn as sns\n",
    "import matplotlib.pyplot as plt\n",
    "from matplotlib.animation import FuncAnimation, FFMpegWriter\n",
    "from scipy.signal import convolve2d\n",
    "\n",
    "#Configure matplotlib\n",
    "%matplotlib inline\n",
    "# Use jshtml to render aniimation\n",
    "plt.rcParams['animation.html'] = 'jshtml'"
   ]
  },
  {
   "cell_type": "code",
   "execution_count": null,
   "id": "420fc607-a7a0-4641-8b21-76ff930304da",
   "metadata": {},
   "outputs": [],
   "source": [
    "def update_matrix(M: np.ndarray):\n",
    "    \"\"\"\n",
    "    Given a binary matrix M, slide a 3x3 window over it,\n",
    "    compute the sum of the eight neighbors (excluding the center),\n",
    "    and flip the center cell if that sum is odd.\n",
    "    \"\"\"\n",
    "    # 3x3 kernel that sums up all cells except the center.\n",
    "    kernel = np.array([[1, 1, 1],\n",
    "                       [1, 0, 1],\n",
    "                       [1, 1, 1]])\n",
    "    # Use convolution. Here, we assume that out-of-bound cells are 0.\n",
    "    neighbors_sum = convolve2d(M, kernel, mode='same', boundary='fill', fillvalue=0)\n",
    "    # Create new matrix: if the sum of neighbors is odd, flip the cell; otherwise keep it.\n",
    "    new_M = np.where(neighbors_sum % 2 == 1, 1 - M, M)\n",
    "    return new_M\n",
    "\n",
    "def generate_states(M: np.ndarray):\n",
    "    \"\"\"\n",
    "    Generate all states until the matrix either stabilizes (converges) or\n",
    "    returns to the initial configuration (cycles).\n",
    "    \"\"\"\n",
    "    states = [M.copy()]\n",
    "    initial_M = M.copy()\n",
    "    \n",
    "    while True:\n",
    "        new_M = update_matrix(M)\n",
    "        states.append(new_M.copy())\n",
    "        # Check if the matrix has converged or cycled back to the initial configuration.\n",
    "        if np.array_equal(new_M, M):\n",
    "            return states, True\n",
    "        elif np.array_equal(new_M, initial_M):\n",
    "            return states, False\n",
    "        M = new_M.copy()\n"
   ]
  },
  {
   "cell_type": "code",
   "execution_count": null,
   "id": "739dd25c-98f7-4581-96cd-8203a3e57311",
   "metadata": {},
   "outputs": [
    {
     "data": {
      "image/png": "[encoded data removed]",
      "text/plain": [
       "<Figure size 500x500 with 1 Axes>"
      ]
     },
     "metadata": {},
     "output_type": "display_data"
    }
   ],
   "source": [
    "N = int(input(\"Enter the size N of the NxN matrix: \"))\n",
    "    \n",
    "# Create an initial random binary matrix.\n",
    "M = np.random.randint(0, 2, (N, N))\n",
    "states, is_converged = generate_states(M)\n",
    "\n",
    "if is_converged:\n",
    "    print(f\"Matrix converged at step {len(states)}.\")\n",
    "else:\n",
    "    print(f\"Matrix cycled back to initial state at step {len(states)}.\")\n",
    "\n",
    "# Set up the figure and axis for animation.\n",
    "fig, ax = plt.subplots(figsize=(5, 5))\n",
    "\n",
    "# Plot the initial state.\n",
    "sns.heatmap(states[0], cbar=False, cmap='viridis', square=True, annot=True, fmt='d', ax=ax)\n",
    "ax.set_title(\"Step 0\")\n",
    "\n",
    "def update(frame):\n",
    "    ax.clear()  # Clear the previous heatmap.\n",
    "    sns.heatmap(states[frame], cbar=False, cmap='viridis', square=True, annot=True, fmt='d', ax=ax)\n",
    "    if frame < len(states) - 1:\n",
    "        ax.set_title(f\"Step {frame}\")\n",
    "    else:\n",
    "        if is_converged:\n",
    "            ax.set_title(f\"Step {frame}: Converged!\")\n",
    "        else:\n",
    "            ax.set_title(f\"Step {frame}: Cycled back to intial state!\")\n",
    "    return ax\n",
    "\n",
    "# Create the animation: each frame is displayed for 500 milliseconds.\n",
    "anim = FuncAnimation(fig, update, frames=len(states), interval=500, repeat=False)\n",
    "anim"
   ]
  }
 ],
 "metadata": {
  "kernelspec": {
   "display_name": "Python 3 (ipykernel)",
   "language": "python",
   "name": "python3"
  },
  "language_info": {
   "codemirror_mode": {
    "name": "ipython",
    "version": 3
   },
   "file_extension": ".py",
   "mimetype": "text/x-python",
   "name": "python",
   "nbconvert_exporter": "python",
   "pygments_lexer": "ipython3",
   "version": "3.12.7"
  }
 },
 "nbformat": 4,
 "nbformat_minor": 5
}
