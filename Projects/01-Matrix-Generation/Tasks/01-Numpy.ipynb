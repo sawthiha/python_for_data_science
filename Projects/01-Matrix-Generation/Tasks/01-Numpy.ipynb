{
 "cells": [
  {
   "cell_type": "markdown",
   "id": "ec2f4aa9-c399-4dc4-8026-2bf2a36bc1b1",
   "metadata": {},
   "source": [
    "# Task 1 - Matrix Generation (Using Numpy)\n",
    "\n",
    "In this task, you are expected to fill in the code where #TODO are specified."
   ]
  },
  {
   "cell_type": "code",
   "execution_count": null,
   "id": "06edf925-d340-4751-b3d8-cc47203923b0",
   "metadata": {},
   "outputs": [],
   "source": [
    "import numpy as np\n",
    "import seaborn as sns\n",
    "import matplotlib.pyplot as plt\n",
    "\n",
    "#Configure matplotlib\n",
    "%matplotlib inline"
   ]
  },
  {
   "cell_type": "markdown",
   "id": "17e10210-7455-4e91-be33-cd239b56b7cd",
   "metadata": {},
   "source": [
    "First, we need to know the matrix size."
   ]
  },
  {
   "cell_type": "code",
   "execution_count": null,
   "id": "f85ec6cf-f626-452e-b8b8-d8639bee66c0",
   "metadata": {},
   "outputs": [],
   "source": [
    "N = # TODO: Ask the user for an integer."
   ]
  },
  {
   "cell_type": "markdown",
   "id": "1303abde-020a-4508-b5c8-39cb1bea2327",
   "metadata": {},
   "source": [
    "Then, we can use N to create the initial matrix."
   ]
  },
  {
   "cell_type": "code",
   "execution_count": null,
   "id": "5fced4d2-b26b-4c1f-ac58-ff193cfa61e8",
   "metadata": {},
   "outputs": [],
   "source": [
    "M = # TODO: Create an initial random binary NxN matrix."
   ]
  },
  {
   "cell_type": "markdown",
   "id": "0bc62f1c-af64-452e-9181-b8b7927f109d",
   "metadata": {},
   "source": [
    "Now, we will implement a loop to update the state."
   ]
  },
  {
   "cell_type": "code",
   "execution_count": null,
   "id": "7aaea2e3-318c-41fc-924e-1719e29bfaf3",
   "metadata": {},
   "outputs": [],
   "source": [
    "states = [M.copy()]\n",
    "while True:\n",
    "    M_ = states[-1].copy()\n",
    "    M_new = M_.copy()\n",
    "    for row in range(M_.shape[0]):\n",
    "        for col in range(M_.shape[1]):\n",
    "            start_row = # TODO: calculate start_row to get the neighbors. Make sure it at least zero. Hint: you should clip it.\n",
    "            end_row = row + 2\n",
    "            start_col = # TODO: calculate start_col to get the neighbors. Make sure it at least zero. Hint: you should clip it.\n",
    "            end_col = col + 2\n",
    "            neighbors = M_[\n",
    "                start_row: end_row,\n",
    "                start_col: end_col\n",
    "            ]\n",
    "            neighbors_sum = neighbors.sum() - M_[row, col]\n",
    "            # TODO: check if the neighbors_sum is odd\n",
    "                M_new[row, col] = 1 - M_new[row, col]\n",
    "    states.append(M_new)\n",
    "    # TODO: Check if M_new is the same as previous state\n",
    "        # TODO: Stop the loop. Optionally report the user about convergence. \n",
    "    elif np.array_equal(M_new, states[0]):\n",
    "        print(f\"Matrix cycled back to initial state at step {len(states)}.\")\n",
    "        break"
   ]
  },
  {
   "cell_type": "markdown",
   "id": "a393d6ae-4558-4f23-9b15-3d95e8d2c93c",
   "metadata": {},
   "source": [
    "Optionally, we can visualize each state using a heatmap"
   ]
  },
  {
   "cell_type": "code",
   "execution_count": null,
   "id": "d788c37b-69b4-4db5-80fb-60b5fe0b720c",
   "metadata": {},
   "outputs": [],
   "source": [
    "# Set up the figure and axis for animation.\n",
    "fig, ax = plt.subplots(figsize=(5, 5))\n",
    "state = 1\n",
    "# TODO: Plot a heat map of states[state]\n",
    "ax.set_title(f\"Step {state}\")"
   ]
  }
 ],
 "metadata": {
  "kernelspec": {
   "display_name": "Python 3 (ipykernel)",
   "language": "python",
   "name": "python3"
  },
  "language_info": {
   "codemirror_mode": {
    "name": "ipython",
    "version": 3
   },
   "file_extension": ".py",
   "mimetype": "text/x-python",
   "name": "python",
   "nbconvert_exporter": "python",
   "pygments_lexer": "ipython3",
   "version": "3.12.7"
  }
 },
 "nbformat": 4,
 "nbformat_minor": 5
}
